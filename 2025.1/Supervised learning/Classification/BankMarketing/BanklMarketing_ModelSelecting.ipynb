{
 "cells": [
  {
   "cell_type": "code",
   "execution_count": 1,
   "id": "5a8b53fd-f35d-404e-b7fd-e7d8766f4760",
   "metadata": {},
   "outputs": [],
   "source": [
    "import warnings\n",
    "warnings.filterwarnings('ignore')"
   ]
  },
  {
   "cell_type": "code",
   "execution_count": 2,
   "id": "51c8c1bd-e4db-4d0e-a2dc-fee7e5030378",
   "metadata": {},
   "outputs": [],
   "source": [
    "import pandas as pd"
   ]
  },
  {
   "cell_type": "code",
   "execution_count": 3,
   "id": "54636311-c401-412d-ae04-8eb4657d504e",
   "metadata": {},
   "outputs": [],
   "source": [
    "X = pd.read_csv(\"X_processed.csv\")"
   ]
  },
  {
   "cell_type": "code",
   "execution_count": 4,
   "id": "83ab59db-f964-48c6-85ef-b4859cfe827c",
   "metadata": {},
   "outputs": [],
   "source": [
    "y = pd.read_csv(\"y_processed.csv\")"
   ]
  },
  {
   "cell_type": "code",
   "execution_count": 5,
   "id": "f98e6c26-3944-4f79-89e1-f8a8b3f64f81",
   "metadata": {},
   "outputs": [
    {
     "data": {
      "text/html": [
       "<div>\n",
       "<style scoped>\n",
       "    .dataframe tbody tr th:only-of-type {\n",
       "        vertical-align: middle;\n",
       "    }\n",
       "\n",
       "    .dataframe tbody tr th {\n",
       "        vertical-align: top;\n",
       "    }\n",
       "\n",
       "    .dataframe thead th {\n",
       "        text-align: right;\n",
       "    }\n",
       "</style>\n",
       "<table border=\"1\" class=\"dataframe\">\n",
       "  <thead>\n",
       "    <tr style=\"text-align: right;\">\n",
       "      <th></th>\n",
       "      <th>age</th>\n",
       "      <th>balance</th>\n",
       "      <th>day_of_week</th>\n",
       "      <th>duration</th>\n",
       "      <th>campaign</th>\n",
       "      <th>pdays</th>\n",
       "      <th>previous</th>\n",
       "      <th>job_blue-collar</th>\n",
       "      <th>job_entrepreneur</th>\n",
       "      <th>job_housemaid</th>\n",
       "      <th>...</th>\n",
       "      <th>month_jan</th>\n",
       "      <th>month_jul</th>\n",
       "      <th>month_jun</th>\n",
       "      <th>month_mar</th>\n",
       "      <th>month_may</th>\n",
       "      <th>month_nov</th>\n",
       "      <th>month_oct</th>\n",
       "      <th>month_sep</th>\n",
       "      <th>poutcome_other</th>\n",
       "      <th>poutcome_success</th>\n",
       "    </tr>\n",
       "  </thead>\n",
       "  <tbody>\n",
       "    <tr>\n",
       "      <th>0</th>\n",
       "      <td>0.129870</td>\n",
       "      <td>0.082382</td>\n",
       "      <td>0.900000</td>\n",
       "      <td>0.039854</td>\n",
       "      <td>0.000000</td>\n",
       "      <td>0.0</td>\n",
       "      <td>0.0</td>\n",
       "      <td>0</td>\n",
       "      <td>0</td>\n",
       "      <td>0</td>\n",
       "      <td>...</td>\n",
       "      <td>1</td>\n",
       "      <td>0</td>\n",
       "      <td>0</td>\n",
       "      <td>0</td>\n",
       "      <td>0</td>\n",
       "      <td>0</td>\n",
       "      <td>0</td>\n",
       "      <td>0</td>\n",
       "      <td>1</td>\n",
       "      <td>0</td>\n",
       "    </tr>\n",
       "    <tr>\n",
       "      <th>1</th>\n",
       "      <td>0.233766</td>\n",
       "      <td>0.077524</td>\n",
       "      <td>0.733333</td>\n",
       "      <td>0.022367</td>\n",
       "      <td>0.016129</td>\n",
       "      <td>0.0</td>\n",
       "      <td>0.0</td>\n",
       "      <td>1</td>\n",
       "      <td>0</td>\n",
       "      <td>0</td>\n",
       "      <td>...</td>\n",
       "      <td>0</td>\n",
       "      <td>0</td>\n",
       "      <td>0</td>\n",
       "      <td>0</td>\n",
       "      <td>1</td>\n",
       "      <td>0</td>\n",
       "      <td>0</td>\n",
       "      <td>0</td>\n",
       "      <td>1</td>\n",
       "      <td>0</td>\n",
       "    </tr>\n",
       "    <tr>\n",
       "      <th>2</th>\n",
       "      <td>0.259740</td>\n",
       "      <td>0.084733</td>\n",
       "      <td>0.500000</td>\n",
       "      <td>0.076861</td>\n",
       "      <td>0.016129</td>\n",
       "      <td>0.0</td>\n",
       "      <td>0.0</td>\n",
       "      <td>0</td>\n",
       "      <td>0</td>\n",
       "      <td>0</td>\n",
       "      <td>...</td>\n",
       "      <td>0</td>\n",
       "      <td>1</td>\n",
       "      <td>0</td>\n",
       "      <td>0</td>\n",
       "      <td>0</td>\n",
       "      <td>0</td>\n",
       "      <td>0</td>\n",
       "      <td>0</td>\n",
       "      <td>1</td>\n",
       "      <td>0</td>\n",
       "    </tr>\n",
       "    <tr>\n",
       "      <th>3</th>\n",
       "      <td>0.298701</td>\n",
       "      <td>0.073058</td>\n",
       "      <td>0.100000</td>\n",
       "      <td>0.072794</td>\n",
       "      <td>0.016129</td>\n",
       "      <td>0.0</td>\n",
       "      <td>0.0</td>\n",
       "      <td>0</td>\n",
       "      <td>0</td>\n",
       "      <td>0</td>\n",
       "      <td>...</td>\n",
       "      <td>0</td>\n",
       "      <td>0</td>\n",
       "      <td>0</td>\n",
       "      <td>0</td>\n",
       "      <td>0</td>\n",
       "      <td>0</td>\n",
       "      <td>0</td>\n",
       "      <td>0</td>\n",
       "      <td>1</td>\n",
       "      <td>0</td>\n",
       "    </tr>\n",
       "    <tr>\n",
       "      <th>4</th>\n",
       "      <td>0.116883</td>\n",
       "      <td>0.075436</td>\n",
       "      <td>0.300000</td>\n",
       "      <td>0.017893</td>\n",
       "      <td>0.000000</td>\n",
       "      <td>0.0</td>\n",
       "      <td>0.0</td>\n",
       "      <td>0</td>\n",
       "      <td>0</td>\n",
       "      <td>0</td>\n",
       "      <td>...</td>\n",
       "      <td>0</td>\n",
       "      <td>0</td>\n",
       "      <td>0</td>\n",
       "      <td>0</td>\n",
       "      <td>0</td>\n",
       "      <td>0</td>\n",
       "      <td>0</td>\n",
       "      <td>0</td>\n",
       "      <td>1</td>\n",
       "      <td>0</td>\n",
       "    </tr>\n",
       "  </tbody>\n",
       "</table>\n",
       "<p>5 rows × 38 columns</p>\n",
       "</div>"
      ],
      "text/plain": [
       "        age   balance  day_of_week  duration  campaign  pdays  previous  \\\n",
       "0  0.129870  0.082382     0.900000  0.039854  0.000000    0.0       0.0   \n",
       "1  0.233766  0.077524     0.733333  0.022367  0.016129    0.0       0.0   \n",
       "2  0.259740  0.084733     0.500000  0.076861  0.016129    0.0       0.0   \n",
       "3  0.298701  0.073058     0.100000  0.072794  0.016129    0.0       0.0   \n",
       "4  0.116883  0.075436     0.300000  0.017893  0.000000    0.0       0.0   \n",
       "\n",
       "   job_blue-collar  job_entrepreneur  job_housemaid  ...  month_jan  \\\n",
       "0                0                 0              0  ...          1   \n",
       "1                1                 0              0  ...          0   \n",
       "2                0                 0              0  ...          0   \n",
       "3                0                 0              0  ...          0   \n",
       "4                0                 0              0  ...          0   \n",
       "\n",
       "   month_jul  month_jun  month_mar  month_may  month_nov  month_oct  \\\n",
       "0          0          0          0          0          0          0   \n",
       "1          0          0          0          1          0          0   \n",
       "2          1          0          0          0          0          0   \n",
       "3          0          0          0          0          0          0   \n",
       "4          0          0          0          0          0          0   \n",
       "\n",
       "   month_sep  poutcome_other  poutcome_success  \n",
       "0          0               1                 0  \n",
       "1          0               1                 0  \n",
       "2          0               1                 0  \n",
       "3          0               1                 0  \n",
       "4          0               1                 0  \n",
       "\n",
       "[5 rows x 38 columns]"
      ]
     },
     "execution_count": 5,
     "metadata": {},
     "output_type": "execute_result"
    }
   ],
   "source": [
    "X.head()"
   ]
  },
  {
   "cell_type": "code",
   "execution_count": 6,
   "id": "0811bd7d-db89-4ccb-85e5-ded0fc85590a",
   "metadata": {},
   "outputs": [
    {
     "data": {
      "text/html": [
       "<div>\n",
       "<style scoped>\n",
       "    .dataframe tbody tr th:only-of-type {\n",
       "        vertical-align: middle;\n",
       "    }\n",
       "\n",
       "    .dataframe tbody tr th {\n",
       "        vertical-align: top;\n",
       "    }\n",
       "\n",
       "    .dataframe thead th {\n",
       "        text-align: right;\n",
       "    }\n",
       "</style>\n",
       "<table border=\"1\" class=\"dataframe\">\n",
       "  <thead>\n",
       "    <tr style=\"text-align: right;\">\n",
       "      <th></th>\n",
       "      <th>y</th>\n",
       "    </tr>\n",
       "  </thead>\n",
       "  <tbody>\n",
       "    <tr>\n",
       "      <th>0</th>\n",
       "      <td>0</td>\n",
       "    </tr>\n",
       "    <tr>\n",
       "      <th>1</th>\n",
       "      <td>0</td>\n",
       "    </tr>\n",
       "    <tr>\n",
       "      <th>2</th>\n",
       "      <td>0</td>\n",
       "    </tr>\n",
       "    <tr>\n",
       "      <th>3</th>\n",
       "      <td>0</td>\n",
       "    </tr>\n",
       "    <tr>\n",
       "      <th>4</th>\n",
       "      <td>0</td>\n",
       "    </tr>\n",
       "  </tbody>\n",
       "</table>\n",
       "</div>"
      ],
      "text/plain": [
       "   y\n",
       "0  0\n",
       "1  0\n",
       "2  0\n",
       "3  0\n",
       "4  0"
      ]
     },
     "execution_count": 6,
     "metadata": {},
     "output_type": "execute_result"
    }
   ],
   "source": [
    "y.head()"
   ]
  },
  {
   "cell_type": "code",
   "execution_count": 7,
   "id": "6a50be93-ee5f-4a47-be03-053f0a5cbf62",
   "metadata": {},
   "outputs": [
    {
     "data": {
      "text/plain": [
       "y\n",
       "0    0.5\n",
       "1    0.5\n",
       "Name: proportion, dtype: float64"
      ]
     },
     "execution_count": 7,
     "metadata": {},
     "output_type": "execute_result"
    }
   ],
   "source": [
    "y.value_counts(normalize=True)"
   ]
  },
  {
   "cell_type": "markdown",
   "id": "08b8b030-c58d-475d-8157-8e78c17f6190",
   "metadata": {},
   "source": [
    "```\n",
    "import warnings\n",
    "warnings.filterwarnings('ignore')\n",
    "import pandas as pd\n",
    "X = pd.read_csv(\"X_processed.csv\")\n",
    "y = pd.read_csv(\"y_processed.csv\")\n",
    "from sklearn.model_selection import GridSearchCV\n",
    "import time\n",
    "def grid_search(clf, params):\n",
    "    gridsearch = GridSearchCV(clf, params, cv=5, n_jobs=-1)\n",
    "    start_time = time.time()\n",
    "    gridsearch.fit(X,y)\n",
    "    end_time = time.time()  \n",
    "    execution_time = end_time - start_time \n",
    "    print(gridsearch.best_params_)\n",
    "    print(gridsearch.best_score_)\n",
    "    print(f'{execution_time:.2f}')\n",
    "from sklearn.model_selection import StratifiedKFold, cross_val_score\n",
    "def crossval_recall(clf):\n",
    "    skf = StratifiedKFold(n_splits=5, shuffle=True)\n",
    "    start_time = time.time()\n",
    "    score = cross_val_score(clf, X, y, cv=skf, n_jobs=-1, scoring='recall')\n",
    "    end_time = time.time()  \n",
    "    execution_time = end_time - start_time\n",
    "    print(score)\n",
    "    print(sum(score)/5)\n",
    "    print(f'{execution_time:.2f}')\n",
    "from sklearn.model_selection import RandomizedSearchCV\n",
    "def random_search(clf, params, n_iter=100):\n",
    "    randomsearch = RandomizedSearchCV(clf, params, cv=5, n_jobs=-1, n_iter=n_iter)\n",
    "    start_time = time.time()\n",
    "    randomsearch.fit(X,y)\n",
    "    end_time = time.time()  \n",
    "    execution_time = end_time - start_time \n",
    "    print(randomsearch.best_params_)\n",
    "    print(randomsearch.best_score_)\n",
    "    print(f'{execution_time:.2f}')\n",
    "def crossval_accuracy(clf):\n",
    "    skf = StratifiedKFold(n_splits=5, shuffle=True)\n",
    "    start_time = time.time()\n",
    "    score = cross_val_score(clf, X, y, cv=skf, n_jobs=-1, scoring='accuracy')\n",
    "    end_time = time.time()  \n",
    "    execution_time = end_time - start_time\n",
    "    print(score)\n",
    "    print(sum(score)/5)\n",
    "    print(f'{execution_time:.2f}')\n",
    "```"
   ]
  },
  {
   "cell_type": "markdown",
   "id": "26e8fa17-9bae-4707-9d18-81b236353fa2",
   "metadata": {},
   "source": [
    "# Naive Bayes"
   ]
  },
  {
   "cell_type": "code",
   "execution_count": 9,
   "id": "a108725a-4bfc-4bcc-a7e8-0cf6e876e6b9",
   "metadata": {},
   "outputs": [
    {
     "data": {
      "text/plain": [
       "age                    0.024316\n",
       "balance                0.000805\n",
       "day_of_week            0.078636\n",
       "duration               0.005153\n",
       "campaign               0.001827\n",
       "pdays                  0.015594\n",
       "previous               0.000165\n",
       "job_blue-collar        0.153749\n",
       "job_entrepreneur       0.026398\n",
       "job_housemaid          0.025324\n",
       "job_management         0.173711\n",
       "job_retired            0.065800\n",
       "job_self-employed      0.032349\n",
       "job_services           0.074619\n",
       "job_student            0.031996\n",
       "job_technician         0.137194\n",
       "job_unemployed         0.033318\n",
       "marital_married        0.245915\n",
       "marital_single         0.217724\n",
       "education_secondary    0.248699\n",
       "education_tertiary     0.220320\n",
       "default_yes            0.013797\n",
       "housing_yes            0.249262\n",
       "loan_yes               0.114357\n",
       "contact_telephone      0.065069\n",
       "month_aug              0.116231\n",
       "month_dec              0.010939\n",
       "month_feb              0.064336\n",
       "month_jan              0.028984\n",
       "month_jul              0.119394\n",
       "month_jun              0.097866\n",
       "month_mar              0.025234\n",
       "month_may              0.186830\n",
       "month_nov              0.074143\n",
       "month_oct              0.034812\n",
       "month_sep              0.029339\n",
       "poutcome_other         0.164020\n",
       "poutcome_success       0.089266\n",
       "dtype: float64"
      ]
     },
     "execution_count": 9,
     "metadata": {},
     "output_type": "execute_result"
    }
   ],
   "source": [
    "X.var()"
   ]
  },
  {
   "cell_type": "markdown",
   "id": "10a04c8a-22d2-471a-b8a9-afff17cf43a9",
   "metadata": {},
   "source": [
    "Low variance $\\rightarrow$ use var_smoothing"
   ]
  },
  {
   "cell_type": "code",
   "execution_count": 9,
   "id": "217f7be6-c172-46cf-ac53-26387ae23212",
   "metadata": {},
   "outputs": [],
   "source": [
    "from sklearn.model_selection import GridSearchCV"
   ]
  },
  {
   "cell_type": "code",
   "execution_count": 12,
   "id": "d807a60b-7506-46e8-9b2d-6b3669bb90fc",
   "metadata": {},
   "outputs": [],
   "source": [
    "from sklearn.naive_bayes import GaussianNB"
   ]
  },
  {
   "cell_type": "code",
   "execution_count": 13,
   "id": "0cfe5423-e4ed-4d18-b596-6d1732f29dfa",
   "metadata": {},
   "outputs": [],
   "source": [
    "clf = GaussianNB()"
   ]
  },
  {
   "cell_type": "code",
   "execution_count": 31,
   "id": "0347d9a7-b814-491a-8cc2-ef698858fc63",
   "metadata": {},
   "outputs": [],
   "source": [
    "import time"
   ]
  },
  {
   "cell_type": "code",
   "execution_count": 15,
   "id": "a841ec20-c890-4638-aaf0-36cf1352edbf",
   "metadata": {},
   "outputs": [],
   "source": [
    "params = {\n",
    "    'var_smoothing': [1e-9, 1e-7, 1e-5, 1e-3, 1e-1]\n",
    "}"
   ]
  },
  {
   "cell_type": "code",
   "execution_count": 11,
   "id": "548130fe-7fcc-45a9-ba8c-a2e1efa83a70",
   "metadata": {},
   "outputs": [],
   "source": [
    "def grid_search(clf, params):\n",
    "    gridsearch = GridSearchCV(clf, params, cv=5, n_jobs=-1)\n",
    "    start_time = time.time()\n",
    "    gridsearch.fit(X,y)\n",
    "    end_time = time.time()  \n",
    "    execution_time = end_time - start_time \n",
    "    print(gridsearch.best_params_)\n",
    "    print(gridsearch.best_score_)\n",
    "    print(f'{execution_time:.2f}')\n"
   ]
  },
  {
   "cell_type": "code",
   "execution_count": null,
   "id": "faa6f94b-1270-4e5c-b4ed-aba596bf0efd",
   "metadata": {},
   "outputs": [],
   "source": [
    "grid_search(clf, params)"
   ]
  },
  {
   "cell_type": "code",
   "execution_count": 17,
   "id": "2010d601-6af4-4f3c-9a93-eedbf72dc634",
   "metadata": {},
   "outputs": [],
   "source": [
    "params = {\n",
    "    'var_smoothing': [1e-4, 0.0005, 1e-5, 0.00005,1e-6]\n",
    "}"
   ]
  },
  {
   "cell_type": "code",
   "execution_count": 18,
   "id": "e1444a05-6050-4b91-b3f6-c5541492cd83",
   "metadata": {},
   "outputs": [
    {
     "name": "stdout",
     "output_type": "stream",
     "text": [
      "{'var_smoothing': 0.0001}\n",
      "0.6587475811893622\n",
      "0.41\n"
     ]
    }
   ],
   "source": [
    "grid_search(clf, params)"
   ]
  },
  {
   "cell_type": "code",
   "execution_count": 13,
   "id": "f99fe226-d08f-4093-8670-d5f82f4eacb4",
   "metadata": {},
   "outputs": [],
   "source": [
    "from sklearn.model_selection import StratifiedKFold, cross_val_score"
   ]
  },
  {
   "cell_type": "code",
   "execution_count": 21,
   "id": "00080f7f-8bd8-4525-ad48-0d61efe0a4b1",
   "metadata": {},
   "outputs": [],
   "source": [
    "clf = GaussianNB(var_smoothing=0.0001)"
   ]
  },
  {
   "cell_type": "code",
   "execution_count": 17,
   "id": "bdc5a009-0e2b-4e30-a82f-eee8259cee07",
   "metadata": {},
   "outputs": [],
   "source": [
    "def crossval_recall(clf):\n",
    "    skf = StratifiedKFold(n_splits=5, shuffle=True)\n",
    "    start_time = time.time()\n",
    "    score = cross_val_score(clf, X, y, cv=skf, n_jobs=-1, scoring='recall')\n",
    "    end_time = time.time()  \n",
    "    execution_time = end_time - start_time\n",
    "    print(score)\n",
    "    print(sum(score)/5)\n",
    "    print(f'{execution_time:.2f}')"
   ]
  },
  {
   "cell_type": "code",
   "execution_count": 23,
   "id": "2355e28b-1676-4890-916e-aaf08c08f1f6",
   "metadata": {},
   "outputs": [
    {
     "name": "stdout",
     "output_type": "stream",
     "text": [
      "[0.51606805 0.52646503 0.52835539 0.48438978 0.53024575]\n",
      "0.5171047995807945\n",
      "0.21\n"
     ]
    }
   ],
   "source": [
    "crossval_recall(clf)"
   ]
  },
  {
   "cell_type": "markdown",
   "id": "5e7b4817-decb-465b-97c7-b2e91bdfd70f",
   "metadata": {},
   "source": [
    "# Logistic Regression"
   ]
  },
  {
   "cell_type": "code",
   "execution_count": 25,
   "id": "4fcb1efe-d6d0-421e-aad3-145927d1cbc9",
   "metadata": {},
   "outputs": [],
   "source": [
    "from sklearn.linear_model import LogisticRegression"
   ]
  },
  {
   "cell_type": "code",
   "execution_count": 26,
   "id": "eecf259c-c220-4e00-a7b4-bf39039fbe6f",
   "metadata": {},
   "outputs": [],
   "source": [
    "clf = LogisticRegression(random_state=42)"
   ]
  },
  {
   "cell_type": "code",
   "execution_count": 27,
   "id": "640c65af-5d4b-460d-9a98-f8d5d90afac9",
   "metadata": {},
   "outputs": [],
   "source": [
    "params = {\n",
    "    'penalty': ['l1', 'l2', 'elasticnet', None],\n",
    "    'C': [0.01, 0.1, 1],\n",
    "    'tol': [1e-4, 1e-3, 1e-2]\n",
    "}\n"
   ]
  },
  {
   "cell_type": "code",
   "execution_count": 28,
   "id": "a06f73c6-96ad-4982-b2db-c3fc59526334",
   "metadata": {},
   "outputs": [
    {
     "name": "stdout",
     "output_type": "stream",
     "text": [
      "{'C': 0.01, 'penalty': None, 'tol': 0.0001}\n",
      "0.7491075091501427\n",
      "3.99\n"
     ]
    }
   ],
   "source": [
    "grid_search(clf, params)"
   ]
  },
  {
   "cell_type": "code",
   "execution_count": 29,
   "id": "b1f65bd2-48b4-49ce-92a5-1456d7990e5d",
   "metadata": {},
   "outputs": [],
   "source": [
    "params={\n",
    "    'penalty': [None],\n",
    "    'C': [0.01, 0.001, 0.0001],\n",
    "    'tol': [0.0001, 0.00001, 0.000001]\n",
    "}"
   ]
  },
  {
   "cell_type": "code",
   "execution_count": 30,
   "id": "e555bc89-014d-48de-bc0a-5f14836fe130",
   "metadata": {},
   "outputs": [
    {
     "name": "stdout",
     "output_type": "stream",
     "text": [
      "{'C': 0.01, 'penalty': None, 'tol': 0.0001}\n",
      "0.7491075091501427\n",
      "2.63\n"
     ]
    }
   ],
   "source": [
    "grid_search(clf, params)"
   ]
  },
  {
   "cell_type": "code",
   "execution_count": 31,
   "id": "95e19b5a-cdfa-4307-b3fa-ad79544145c1",
   "metadata": {},
   "outputs": [],
   "source": [
    "clf = LogisticRegression(random_state=42, C=0.01, penalty=None, tol=0.0001)"
   ]
  },
  {
   "cell_type": "code",
   "execution_count": 32,
   "id": "3573d197-4468-45a2-932c-bde6ca86d074",
   "metadata": {},
   "outputs": [
    {
     "name": "stdout",
     "output_type": "stream",
     "text": [
      "[0.79206049 0.79584121 0.78166352 0.79091769 0.80056711]\n",
      "0.792210003344344\n",
      "0.45\n"
     ]
    }
   ],
   "source": [
    "crossval_recall(clf)"
   ]
  },
  {
   "cell_type": "markdown",
   "id": "5b567fe2-2095-40f2-a4d9-89cf5a9e31dc",
   "metadata": {},
   "source": [
    "# Decision Trees"
   ]
  },
  {
   "cell_type": "code",
   "execution_count": 34,
   "id": "51126171-b299-4009-bf88-8c97a1d3466b",
   "metadata": {},
   "outputs": [],
   "source": [
    "from sklearn.tree import DecisionTreeClassifier"
   ]
  },
  {
   "cell_type": "code",
   "execution_count": 35,
   "id": "5a105b32-ce2f-400a-880d-9ad43eb80808",
   "metadata": {},
   "outputs": [],
   "source": [
    "clf = DecisionTreeClassifier(random_state=42)"
   ]
  },
  {
   "cell_type": "code",
   "execution_count": 36,
   "id": "0924a508-510d-405c-9e68-88a7681bea3f",
   "metadata": {},
   "outputs": [],
   "source": [
    "params = {\n",
    "    'criterion': ['gini', 'entropy', 'log_loss'],\n",
    "    'max_depth': [5, 10, 20],  \n",
    "    'min_samples_split': [2, 5, 10],  \n",
    "    'min_samples_leaf': [1, 5, 10],  \n",
    "    'max_leaf_nodes': [None, 20, 50]  \n",
    "}"
   ]
  },
  {
   "cell_type": "code",
   "execution_count": 37,
   "id": "f3c83f91-12ec-431c-af0c-1a72ff3d3d96",
   "metadata": {},
   "outputs": [
    {
     "name": "stdout",
     "output_type": "stream",
     "text": [
      "{'criterion': 'gini', 'max_depth': 20, 'max_leaf_nodes': 50, 'min_samples_leaf': 10, 'min_samples_split': 2}\n",
      "0.7422100667211876\n",
      "29.73\n"
     ]
    }
   ],
   "source": [
    "grid_search(clf, params)"
   ]
  },
  {
   "cell_type": "code",
   "execution_count": 38,
   "id": "51829b4f-cd8a-4bf5-a0b8-91cd3635902d",
   "metadata": {},
   "outputs": [],
   "source": [
    "params={\n",
    "    'max_depth': [20, 25, 30, 35],\n",
    "    'min_samples_leaf': [10, 15, 20, 25],\n",
    "    'max_leaf_nodes':[50, 65, 70, 75]\n",
    "}"
   ]
  },
  {
   "cell_type": "code",
   "execution_count": 39,
   "id": "635123bd-5c8c-48fe-9793-5641f4e79ffc",
   "metadata": {},
   "outputs": [
    {
     "name": "stdout",
     "output_type": "stream",
     "text": [
      "{'max_depth': 20, 'max_leaf_nodes': 50, 'min_samples_leaf': 15}\n",
      "0.7461794187704174\n",
      "7.96\n"
     ]
    }
   ],
   "source": [
    "grid_search(clf, params)"
   ]
  },
  {
   "cell_type": "code",
   "execution_count": 40,
   "id": "de1faf60-ee30-4d75-819a-22131bd8fdda",
   "metadata": {},
   "outputs": [],
   "source": [
    "clf = DecisionTreeClassifier(random_state=42, max_depth=20, max_leaf_nodes=50, min_samples_leaf=15)"
   ]
  },
  {
   "cell_type": "code",
   "execution_count": 41,
   "id": "c3196e41-313e-46a4-8f22-cc9e09077125",
   "metadata": {},
   "outputs": [
    {
     "name": "stdout",
     "output_type": "stream",
     "text": [
      "[0.86389414 0.88468809 0.83648393 0.86944182 0.86483932]\n",
      "0.8638694597006544\n",
      "0.32\n"
     ]
    }
   ],
   "source": [
    "crossval_recall(clf)"
   ]
  },
  {
   "cell_type": "markdown",
   "id": "2280bcf3-cc15-4df6-9ab7-4d5bac955f74",
   "metadata": {},
   "source": [
    "# Random Forest"
   ]
  },
  {
   "cell_type": "code",
   "execution_count": 22,
   "id": "ea4530e1-6bac-43c5-9577-72315ea1467e",
   "metadata": {},
   "outputs": [],
   "source": [
    "from sklearn.model_selection import RandomizedSearchCV"
   ]
  },
  {
   "cell_type": "code",
   "execution_count": 24,
   "id": "c00b7c13-4c6c-4829-b977-a6821bd78113",
   "metadata": {},
   "outputs": [],
   "source": [
    "from sklearn.ensemble import RandomForestClassifier"
   ]
  },
  {
   "cell_type": "markdown",
   "id": "939b04d6-bf39-4629-8f21-ed47ffb9eb39",
   "metadata": {},
   "source": [
    "'balance' over 'balanced_subsample' $\\rightarrow$ dataset is not too big (<1e6 instances)"
   ]
  },
  {
   "cell_type": "code",
   "execution_count": 27,
   "id": "7a91b087-19ab-480d-b604-796385c3858c",
   "metadata": {},
   "outputs": [],
   "source": [
    "clf = RandomForestClassifier(random_state=42) # default n_estimators=100"
   ]
  },
  {
   "cell_type": "code",
   "execution_count": 47,
   "id": "89d4cdee-6f46-434f-b107-0586cbbd2464",
   "metadata": {},
   "outputs": [],
   "source": [
    "params = {\n",
    "    'criterion': ['gini', 'entropy'],\n",
    "    'max_depth': [5, 10],  \n",
    "    'min_samples_split': [2, 5],  \n",
    "    'min_samples_leaf': [1, 5]\n",
    "}"
   ]
  },
  {
   "cell_type": "code",
   "execution_count": 21,
   "id": "b4502180-5d4c-445b-a2f6-e6d40e525260",
   "metadata": {},
   "outputs": [],
   "source": [
    "def random_search(clf, params, n_iter=100):\n",
    "    randomsearch = RandomizedSearchCV(clf, params, cv=5, n_jobs=-1, n_iter=n_iter)\n",
    "    start_time = time.time()\n",
    "    randomsearch.fit(X,y)\n",
    "    end_time = time.time()  \n",
    "    execution_time = end_time - start_time \n",
    "    print(randomsearch.best_params_)\n",
    "    print(randomsearch.best_score_)\n",
    "    print(f'{execution_time:.2f}')\n"
   ]
  },
  {
   "cell_type": "code",
   "execution_count": null,
   "id": "93b96722-4676-4d93-90c7-1f10223d32ad",
   "metadata": {},
   "outputs": [],
   "source": [
    "random_search(clf, params)"
   ]
  },
  {
   "cell_type": "code",
   "execution_count": 49,
   "id": "51168233-c4c2-4438-94c8-a06c7877a8c2",
   "metadata": {},
   "outputs": [],
   "source": [
    "params = {\n",
    "    'max_depth': [10, 15, 20],  \n",
    "    'min_samples_split': [2, 1, None],  \n",
    "    'min_samples_leaf': [5, 10, 15]\n",
    "}"
   ]
  },
  {
   "cell_type": "code",
   "execution_count": 50,
   "id": "9757b915-ca79-4cf4-b036-7b8d641f5975",
   "metadata": {},
   "outputs": [
    {
     "name": "stdout",
     "output_type": "stream",
     "text": [
      "{'min_samples_split': 2, 'min_samples_leaf': 15, 'max_depth': 20}\n",
      "0.742688108612977\n",
      "22.83\n"
     ]
    }
   ],
   "source": [
    "random_search(clf, params)"
   ]
  },
  {
   "cell_type": "code",
   "execution_count": 29,
   "id": "74d49520-721b-43b5-b41d-09d7e0e7bb2b",
   "metadata": {},
   "outputs": [],
   "source": [
    "clf = RandomForestClassifier(random_state=42, \n",
    "                             min_samples_leaf=15,\n",
    "                             max_depth=20,\n",
    "                             n_estimators=500\n",
    "                            )"
   ]
  },
  {
   "cell_type": "code",
   "execution_count": 52,
   "id": "cb8637ab-72a1-428d-96e9-04ecc37cd7d0",
   "metadata": {},
   "outputs": [
    {
     "name": "stdout",
     "output_type": "stream",
     "text": [
      "[0.84877127 0.87712665 0.86862004 0.87890255 0.88279773]\n",
      "0.8712436488760679\n",
      "14.54\n"
     ]
    }
   ],
   "source": [
    "crossval_recall(clf)"
   ]
  },
  {
   "cell_type": "code",
   "execution_count": 31,
   "id": "3cf455ce-ebc0-4cb3-a738-f6a07a58c262",
   "metadata": {},
   "outputs": [],
   "source": [
    "def crossval_accuracy(clf):\n",
    "    skf = StratifiedKFold(n_splits=5, shuffle=True)\n",
    "    start_time = time.time()\n",
    "    score = cross_val_score(clf, X, y, cv=skf, n_jobs=-1, scoring='accuracy')\n",
    "    end_time = time.time()  \n",
    "    execution_time = end_time - start_time\n",
    "    print(score)\n",
    "    print(sum(score)/5)\n",
    "    print(f'{execution_time:.2f}')"
   ]
  },
  {
   "cell_type": "code",
   "execution_count": 33,
   "id": "38b82876-c503-492b-8e13-0cfd05529dd6",
   "metadata": {},
   "outputs": [
    {
     "name": "stdout",
     "output_type": "stream",
     "text": [
      "[0.83223062 0.83506616 0.82939509 0.83309693 0.82931442]\n",
      "0.8318206437946614\n",
      "7.17\n"
     ]
    }
   ],
   "source": [
    "crossval_accuracy(clf)"
   ]
  },
  {
   "cell_type": "markdown",
   "id": "26acc27b-dbef-4234-933e-15d9fc9dd8b3",
   "metadata": {},
   "source": [
    "# XGBoost"
   ]
  },
  {
   "cell_type": "code",
   "execution_count": 9,
   "id": "2f77e535-b520-4f18-a527-3fa94606c9ab",
   "metadata": {},
   "outputs": [],
   "source": [
    "from xgboost import XGBClassifier"
   ]
  },
  {
   "cell_type": "code",
   "execution_count": 65,
   "id": "08e514f6-0580-40b3-a909-7327a2b44004",
   "metadata": {},
   "outputs": [],
   "source": [
    "clf = XGBClassifier(random_state=42, n_estimators=25)"
   ]
  },
  {
   "cell_type": "code",
   "execution_count": 67,
   "id": "cdf81951-450e-42d7-a201-0ecc83354ed1",
   "metadata": {},
   "outputs": [],
   "source": [
    "params = {\n",
    "    'booster': ['gbtree', 'dart'],  \n",
    "    'eta': [0.01, 0.1],  # Taxa de aprendizado (menor = mais estável, maior = mais rápido)  \n",
    "    'gamma': [0, 5],  # Regularização de divisão de nós (0 = mais splits, >0 = mais conservador)  \n",
    "    'max_depth': [3, 10],  # Profundidade máxima da árvore (menor = menos overfitting)  \n",
    "    'max_leaves': [10, 100],  # Número máximo de folhas por árvore (afeta complexidade)  \n",
    "}"
   ]
  },
  {
   "cell_type": "code",
   "execution_count": 57,
   "id": "2963461f-9f29-4476-b994-9abe6babbb47",
   "metadata": {},
   "outputs": [
    {
     "name": "stdout",
     "output_type": "stream",
     "text": [
      "{'max_leaves': 10, 'max_depth': 3, 'gamma': 0, 'eta': 0.1, 'booster': 'gbtree'}\n",
      "0.7695243713326809\n",
      "67.59\n"
     ]
    }
   ],
   "source": [
    "random_search(clf, params)"
   ]
  },
  {
   "cell_type": "code",
   "execution_count": 58,
   "id": "de61f240-5db6-4922-9526-6bc54dff93be",
   "metadata": {},
   "outputs": [],
   "source": [
    "params = {\n",
    "    'eta': [0.1, 0.3, 0.5],  # Taxa de aprendizado (menor = mais estável, maior = mais rápido)  \n",
    "    'gamma': [0, 1, 3],  # Regularização de divisão de nós (0 = mais splits, >0 = mais conservador)  \n",
    "    'max_depth': [2, 3, 5],  # Profundidade máxima da árvore (menor = menos overfitting)  \n",
    "    'max_leaves': [10, 20, 50],  # Número máximo de folhas por árvore (afeta complexidade)  \n",
    "}"
   ]
  },
  {
   "cell_type": "code",
   "execution_count": 59,
   "id": "0b514b8b-d55a-486f-9a07-110dd5dd9a83",
   "metadata": {},
   "outputs": [
    {
     "name": "stdout",
     "output_type": "stream",
     "text": [
      "{'max_leaves': 10, 'max_depth': 2, 'gamma': 0, 'eta': 0.1}\n",
      "0.7706556373370514\n",
      "17.58\n"
     ]
    }
   ],
   "source": [
    "random_search(clf, params)"
   ]
  },
  {
   "cell_type": "code",
   "execution_count": 11,
   "id": "0e548a1f-2317-4026-8dd0-e45141f17741",
   "metadata": {},
   "outputs": [],
   "source": [
    "clf = XGBClassifier(random_state=42, \n",
    "                    n_estimators=100_000,\n",
    "                    max_leaves=10,\n",
    "                    max_depth=2,\n",
    "                    gamma=0,\n",
    "                    eta=0.1\n",
    "                   )"
   ]
  },
  {
   "cell_type": "code",
   "execution_count": 13,
   "id": "10727834-1f67-4c37-8790-6fee6d812525",
   "metadata": {},
   "outputs": [
    {
     "name": "stdout",
     "output_type": "stream",
     "text": [
      "[0.81758034 0.80434783 0.82136106 0.79659413 0.80812854]\n",
      "0.8096023807437319\n",
      "194.22\n"
     ]
    }
   ],
   "source": [
    "crossval_recall(clf)"
   ]
  },
  {
   "cell_type": "code",
   "execution_count": 18,
   "id": "42267bfc-bc8e-4e28-8c25-cbabac54dcbf",
   "metadata": {},
   "outputs": [
    {
     "name": "stdout",
     "output_type": "stream",
     "text": [
      "[0.81332703 0.83034026 0.8241966  0.80520095 0.80567376]\n",
      "0.8157477197263224\n",
      "185.33\n"
     ]
    }
   ],
   "source": [
    "crossval_accuracy(clf)"
   ]
  },
  {
   "cell_type": "markdown",
   "id": "9713b626-119a-4d99-9b2b-fb6fa18e03ea",
   "metadata": {},
   "source": [
    "# KNN"
   ]
  },
  {
   "cell_type": "code",
   "execution_count": 63,
   "id": "4c7b7569-1a94-4126-9288-b7a7ce3e97fa",
   "metadata": {},
   "outputs": [],
   "source": [
    "from sklearn.neighbors import KNeighborsClassifier"
   ]
  },
  {
   "cell_type": "code",
   "execution_count": 64,
   "id": "a2f1debe-a396-4882-8fa3-320521ff344c",
   "metadata": {},
   "outputs": [],
   "source": [
    "clf = KNeighborsClassifier()"
   ]
  },
  {
   "cell_type": "code",
   "execution_count": 65,
   "id": "21ae4f94-80dd-4ae4-931d-c25cbdd167f7",
   "metadata": {},
   "outputs": [],
   "source": [
    "params={\n",
    "    'n_neighbors': [3,5,7,9],\n",
    "    'weights': ['uniform', 'distance'],\n",
    "    'metric': ['chebyshev', 'manhattan', 'euclidian'],\n",
    "    'algorithm': ['auto', 'ball_tree', 'kd_tree']\n",
    "}"
   ]
  },
  {
   "cell_type": "code",
   "execution_count": 66,
   "id": "80e38d81-ffd2-473c-a0bc-2cba26a07fd7",
   "metadata": {},
   "outputs": [
    {
     "name": "stdout",
     "output_type": "stream",
     "text": [
      "{'weights': 'uniform', 'n_neighbors': 9, 'metric': 'manhattan', 'algorithm': 'ball_tree'}\n",
      "0.6298235217882887\n",
      "86.18\n"
     ]
    }
   ],
   "source": [
    "random_search(clf, params)"
   ]
  },
  {
   "cell_type": "code",
   "execution_count": 67,
   "id": "757848ec-c73e-40c3-8c41-7420b6eca2f0",
   "metadata": {},
   "outputs": [],
   "source": [
    "params={\n",
    "    'n_neighbors': [9, 11, 13, 15, 17, 19, 21, 23, 25],\n",
    "    'metric': ['manhattan'],\n",
    "    'algorithm': ['ball_tree']\n",
    "}"
   ]
  },
  {
   "cell_type": "code",
   "execution_count": 68,
   "id": "ed8fa64f-4597-4183-81c2-81358a86a5a8",
   "metadata": {},
   "outputs": [
    {
     "name": "stdout",
     "output_type": "stream",
     "text": [
      "{'n_neighbors': 15, 'metric': 'manhattan', 'algorithm': 'ball_tree'}\n",
      "0.6405074027895088\n",
      "22.32\n"
     ]
    }
   ],
   "source": [
    "random_search(clf, params)"
   ]
  },
  {
   "cell_type": "code",
   "execution_count": 69,
   "id": "884a49ed-d4ab-4b11-a0f5-bddb3587b76e",
   "metadata": {},
   "outputs": [],
   "source": [
    "clf = KNeighborsClassifier(\n",
    "    n_neighbors=15,\n",
    "    metric='manhattan',\n",
    "    algorithm='ball_tree'\n",
    ")"
   ]
  },
  {
   "cell_type": "code",
   "execution_count": 70,
   "id": "13375f87-f6e1-4dfc-9d25-79d11f0447b5",
   "metadata": {},
   "outputs": [
    {
     "name": "stdout",
     "output_type": "stream",
     "text": [
      "[0.61720227 0.62854442 0.64933837 0.64049196 0.62759924]\n",
      "0.6326352536783313\n",
      "2.66\n"
     ]
    }
   ],
   "source": [
    "crossval_recall(clf)"
   ]
  },
  {
   "cell_type": "markdown",
   "id": "d798d43f-7477-43fe-a8a0-b0e39bbf055a",
   "metadata": {},
   "source": [
    "# SVM"
   ]
  },
  {
   "cell_type": "code",
   "execution_count": 2,
   "id": "84f274f8-53b1-4ae0-8e5e-100381e9cfcd",
   "metadata": {},
   "outputs": [],
   "source": [
    "from sklearn.svm import SVC"
   ]
  },
  {
   "cell_type": "code",
   "execution_count": 5,
   "id": "b981fd47-8a05-46e8-b5d2-5a4f435dc29a",
   "metadata": {},
   "outputs": [],
   "source": [
    "clf = SVC(random_state=42)"
   ]
  },
  {
   "cell_type": "code",
   "execution_count": 7,
   "id": "e40003aa-a40f-4301-84c3-b059dacd6663",
   "metadata": {},
   "outputs": [],
   "source": [
    "params = [\n",
    "    {'C': [0.1, 1, 5], 'kernel': ['linear']},  # Linear não precisa de gamma nem degree\n",
    "    {'C': [0.1, 1, 5], 'kernel': ['poly'], 'degree': [2, 3], 'gamma': ['scale', 'auto']},\n",
    "    {'C': [0.1, 1, 5], 'kernel': ['rbf', 'sigmoid'], 'gamma': ['scale', 'auto']}\n",
    "]"
   ]
  },
  {
   "cell_type": "code",
   "execution_count": 9,
   "id": "22d70e9e-f88d-491d-b13b-7ac2dbd428de",
   "metadata": {},
   "outputs": [
    {
     "name": "stdout",
     "output_type": "stream",
     "text": [
      "{'kernel': 'linear', 'C': 5}\n",
      "0.7576137678924952\n",
      "218.40\n"
     ]
    }
   ],
   "source": [
    "random_search(clf, params)"
   ]
  },
  {
   "cell_type": "code",
   "execution_count": 11,
   "id": "02174376-34d4-4d20-b31d-a280771b9a06",
   "metadata": {},
   "outputs": [],
   "source": [
    "params={\n",
    "    'kernel':['linear'],\n",
    "    'C':[2, 3, 5, 6, 7]\n",
    "}"
   ]
  },
  {
   "cell_type": "code",
   "execution_count": 13,
   "id": "c1fba0d5-4fc5-46c5-9f22-bedaddab01da",
   "metadata": {},
   "outputs": [
    {
     "name": "stdout",
     "output_type": "stream",
     "text": [
      "{'kernel': 'linear', 'C': 5}\n",
      "0.7576137678924952\n",
      "40.15\n"
     ]
    }
   ],
   "source": [
    "random_search(clf, params)"
   ]
  },
  {
   "cell_type": "code",
   "execution_count": 15,
   "id": "f96380d3-2964-49ec-9f0d-dd7be3a19e47",
   "metadata": {},
   "outputs": [],
   "source": [
    "clf = SVC(random_state=42,\n",
    "          kernel='linear',\n",
    "          C=5\n",
    "         )"
   ]
  },
  {
   "cell_type": "code",
   "execution_count": 17,
   "id": "57a9bf1a-1176-4c96-8df2-ec95fb86c51f",
   "metadata": {},
   "outputs": [
    {
     "name": "stdout",
     "output_type": "stream",
     "text": [
      "[0.79111531 0.79678639 0.81379962 0.79470199 0.81096408]\n",
      "0.8014734786364375\n",
      "6.81\n"
     ]
    }
   ],
   "source": [
    "crossval_recall(clf)"
   ]
  },
  {
   "cell_type": "markdown",
   "id": "786627a5-f274-4c0d-8b62-2a1173f778af",
   "metadata": {},
   "source": [
    "# MLP"
   ]
  },
  {
   "cell_type": "code",
   "execution_count": 19,
   "id": "b29eaf25-82be-4ce7-8782-2d1bca81f926",
   "metadata": {},
   "outputs": [],
   "source": [
    "from sklearn.neural_network import MLPClassifier"
   ]
  },
  {
   "cell_type": "code",
   "execution_count": 21,
   "id": "dbe62ed6-86c9-460a-844b-15cfcc9ef58f",
   "metadata": {},
   "outputs": [],
   "source": [
    "clf = MLPClassifier(random_state=42)"
   ]
  },
  {
   "cell_type": "markdown",
   "id": "89c23bae-173b-4ca4-bd32-e2dab0437cea",
   "metadata": {},
   "source": [
    "Hidden layer sizes:\n",
    "$$\n",
    "HLS=\\sqrt{38_{features}\\cdot2_{classes}}\\approx9\n",
    "$$"
   ]
  },
  {
   "cell_type": "code",
   "execution_count": 37,
   "id": "51868e4b-18e4-4544-a903-449d2eeff3ea",
   "metadata": {},
   "outputs": [],
   "source": [
    "params={\n",
    "    'hidden_layer_sizes': [8, 9, 10],\n",
    "    'activation': ['logistic', 'relu'],\n",
    "    'solver': ['lbfgs', 'sgd', 'adam'],\n",
    "    'alpha': [0.1, 0.01, 0.001],\n",
    "    'learning_rate': ['constant', 'invscaling', 'adaptive']\n",
    "}"
   ]
  },
  {
   "cell_type": "code",
   "execution_count": 39,
   "id": "d198d8ac-f009-4d3d-9a8f-475cf5c5b780",
   "metadata": {},
   "outputs": [
    {
     "name": "stdout",
     "output_type": "stream",
     "text": [
      "{'solver': 'adam', 'learning_rate': 'adaptive', 'hidden_layer_sizes': 8, 'alpha': 0.001, 'activation': 'logistic'}\n",
      "0.751943316038558\n",
      "368.14\n"
     ]
    }
   ],
   "source": [
    "random_search(clf, params)"
   ]
  },
  {
   "cell_type": "code",
   "execution_count": 41,
   "id": "10821b62-4f11-47ff-a89d-ce90df416925",
   "metadata": {},
   "outputs": [],
   "source": [
    "params={\n",
    "    'hidden_layer_sizes': [5, 6, 7, 8],\n",
    "    'activation': ['logistic'],\n",
    "    'alpha': [0.001, 0.0001, 0.00001],\n",
    "    'learning_rate': ['adaptive']\n",
    "}"
   ]
  },
  {
   "cell_type": "code",
   "execution_count": 43,
   "id": "987808c3-0082-4524-b4e4-590e76a92377",
   "metadata": {},
   "outputs": [
    {
     "name": "stdout",
     "output_type": "stream",
     "text": [
      "{'learning_rate': 'adaptive', 'hidden_layer_sizes': 8, 'alpha': 1e-05, 'activation': 'logistic'}\n",
      "0.7522268699137943\n",
      "68.42\n"
     ]
    }
   ],
   "source": [
    "random_search(clf, params)"
   ]
  },
  {
   "cell_type": "code",
   "execution_count": 55,
   "id": "77ad8cad-f0cd-4996-ab22-838987d14b88",
   "metadata": {},
   "outputs": [],
   "source": [
    "clf = MLPClassifier(random_state=42,\n",
    "                    learning_rate='adaptive', \n",
    "                    hidden_layer_sizes=8, \n",
    "                    alpha=1e-05, \n",
    "                    activation='logistic'\n",
    "                   )"
   ]
  },
  {
   "cell_type": "code",
   "execution_count": 57,
   "id": "657f4f7b-6352-42d7-b15a-54b22ff11712",
   "metadata": {},
   "outputs": [
    {
     "name": "stdout",
     "output_type": "stream",
     "text": [
      "[0.78166352 0.79773157 0.79489603 0.81078524 0.8194707 ]\n",
      "0.8009094111987238\n",
      "10.45\n"
     ]
    }
   ],
   "source": [
    "crossval_recall(clf)"
   ]
  },
  {
   "cell_type": "markdown",
   "id": "ae224942-0466-4366-93d8-2f8b99c39555",
   "metadata": {},
   "source": [
    "|         Model         | Avg Accuracy | Avg Recall |\n",
    "|:---------------------:|:------------:|:----------:|\n",
    "|      Naive Bayes      |      66%     |     52%    |\n",
    "|  Logistic Regression  |      75%     |     79%    |\n",
    "|     Decision Tree     |      75%     |     86%    |\n",
    "|     Random Forest     |      83%     |     87%    |\n",
    "|        XGBoost        |      81%     |     81%    |\n",
    "|          KNN          |      64%     |     63%    |\n",
    "|          SVM          |      76%     |     80%    |\n",
    "| Multilayer Perceptron |      75%     |     80%    |"
   ]
  },
  {
   "cell_type": "markdown",
   "id": "1b17dbea-0bb0-4dd8-bfef-21e6f59158f5",
   "metadata": {},
   "source": [
    "# Top Three\n",
    "1. Random Forest\n",
    "- Parameters: {'min_samples_split': 2, 'min_samples_leaf': 15, 'max_depth': 20, 'n_estimators': 500}\n",
    "2. XGBoost\n",
    "- Parameters: {'max_leaves': 10, 'max_depth': 2, 'gamma': 0, 'eta': 0.1, 'n_estimators': 100000}\n",
    "3. SVM\n",
    "- Parameters: {'kernel': 'linear', 'C': 5}"
   ]
  }
 ],
 "metadata": {
  "kernelspec": {
   "display_name": "Python [conda env:mlproj20251]",
   "language": "python",
   "name": "conda-env-mlproj20251-py"
  },
  "language_info": {
   "codemirror_mode": {
    "name": "ipython",
    "version": 3
   },
   "file_extension": ".py",
   "mimetype": "text/x-python",
   "name": "python",
   "nbconvert_exporter": "python",
   "pygments_lexer": "ipython3",
   "version": "3.12.9"
  }
 },
 "nbformat": 4,
 "nbformat_minor": 5
}
