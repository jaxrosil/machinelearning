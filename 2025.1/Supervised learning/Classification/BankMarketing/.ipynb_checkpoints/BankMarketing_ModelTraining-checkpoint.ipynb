{
 "cells": [
  {
   "cell_type": "code",
   "execution_count": 1,
   "id": "939642dc-e95c-4ee7-9001-008c2fa951b8",
   "metadata": {},
   "outputs": [],
   "source": [
    "import warnings\n",
    "warnings.filterwarnings('ignore')\n",
    "import pandas as pd\n",
    "X = pd.read_csv(\"X_processed.csv\")\n",
    "y = pd.read_csv(\"y_processed.csv\")"
   ]
  },
  {
   "cell_type": "code",
   "execution_count": 2,
   "id": "12b23cc2-ebae-4aa8-96ce-ae2840c3d59b",
   "metadata": {},
   "outputs": [
    {
     "data": {
      "text/plain": [
       "(10578, 38)"
      ]
     },
     "execution_count": 2,
     "metadata": {},
     "output_type": "execute_result"
    }
   ],
   "source": [
    "X.shape"
   ]
  },
  {
   "cell_type": "code",
   "execution_count": 3,
   "id": "733da6ab-8c9f-465c-9085-e3386d6c7ea7",
   "metadata": {},
   "outputs": [
    {
     "data": {
      "text/plain": [
       "(10578, 1)"
      ]
     },
     "execution_count": 3,
     "metadata": {},
     "output_type": "execute_result"
    }
   ],
   "source": [
    "y.shape"
   ]
  },
  {
   "cell_type": "code",
   "execution_count": 4,
   "id": "a41f552d-e738-4592-ba86-4d016e06fb0d",
   "metadata": {},
   "outputs": [
    {
     "data": {
      "text/html": [
       "<div>\n",
       "<style scoped>\n",
       "    .dataframe tbody tr th:only-of-type {\n",
       "        vertical-align: middle;\n",
       "    }\n",
       "\n",
       "    .dataframe tbody tr th {\n",
       "        vertical-align: top;\n",
       "    }\n",
       "\n",
       "    .dataframe thead th {\n",
       "        text-align: right;\n",
       "    }\n",
       "</style>\n",
       "<table border=\"1\" class=\"dataframe\">\n",
       "  <thead>\n",
       "    <tr style=\"text-align: right;\">\n",
       "      <th></th>\n",
       "      <th>age</th>\n",
       "      <th>balance</th>\n",
       "      <th>day_of_week</th>\n",
       "      <th>duration</th>\n",
       "      <th>campaign</th>\n",
       "      <th>pdays</th>\n",
       "      <th>previous</th>\n",
       "      <th>job_blue-collar</th>\n",
       "      <th>job_entrepreneur</th>\n",
       "      <th>job_housemaid</th>\n",
       "      <th>...</th>\n",
       "      <th>month_jan</th>\n",
       "      <th>month_jul</th>\n",
       "      <th>month_jun</th>\n",
       "      <th>month_mar</th>\n",
       "      <th>month_may</th>\n",
       "      <th>month_nov</th>\n",
       "      <th>month_oct</th>\n",
       "      <th>month_sep</th>\n",
       "      <th>poutcome_other</th>\n",
       "      <th>poutcome_success</th>\n",
       "    </tr>\n",
       "  </thead>\n",
       "  <tbody>\n",
       "    <tr>\n",
       "      <th>0</th>\n",
       "      <td>0.129870</td>\n",
       "      <td>0.082382</td>\n",
       "      <td>0.900000</td>\n",
       "      <td>0.039854</td>\n",
       "      <td>0.000000</td>\n",
       "      <td>0.0</td>\n",
       "      <td>0.0</td>\n",
       "      <td>0</td>\n",
       "      <td>0</td>\n",
       "      <td>0</td>\n",
       "      <td>...</td>\n",
       "      <td>1</td>\n",
       "      <td>0</td>\n",
       "      <td>0</td>\n",
       "      <td>0</td>\n",
       "      <td>0</td>\n",
       "      <td>0</td>\n",
       "      <td>0</td>\n",
       "      <td>0</td>\n",
       "      <td>1</td>\n",
       "      <td>0</td>\n",
       "    </tr>\n",
       "    <tr>\n",
       "      <th>1</th>\n",
       "      <td>0.233766</td>\n",
       "      <td>0.077524</td>\n",
       "      <td>0.733333</td>\n",
       "      <td>0.022367</td>\n",
       "      <td>0.016129</td>\n",
       "      <td>0.0</td>\n",
       "      <td>0.0</td>\n",
       "      <td>1</td>\n",
       "      <td>0</td>\n",
       "      <td>0</td>\n",
       "      <td>...</td>\n",
       "      <td>0</td>\n",
       "      <td>0</td>\n",
       "      <td>0</td>\n",
       "      <td>0</td>\n",
       "      <td>1</td>\n",
       "      <td>0</td>\n",
       "      <td>0</td>\n",
       "      <td>0</td>\n",
       "      <td>1</td>\n",
       "      <td>0</td>\n",
       "    </tr>\n",
       "    <tr>\n",
       "      <th>2</th>\n",
       "      <td>0.259740</td>\n",
       "      <td>0.084733</td>\n",
       "      <td>0.500000</td>\n",
       "      <td>0.076861</td>\n",
       "      <td>0.016129</td>\n",
       "      <td>0.0</td>\n",
       "      <td>0.0</td>\n",
       "      <td>0</td>\n",
       "      <td>0</td>\n",
       "      <td>0</td>\n",
       "      <td>...</td>\n",
       "      <td>0</td>\n",
       "      <td>1</td>\n",
       "      <td>0</td>\n",
       "      <td>0</td>\n",
       "      <td>0</td>\n",
       "      <td>0</td>\n",
       "      <td>0</td>\n",
       "      <td>0</td>\n",
       "      <td>1</td>\n",
       "      <td>0</td>\n",
       "    </tr>\n",
       "    <tr>\n",
       "      <th>3</th>\n",
       "      <td>0.298701</td>\n",
       "      <td>0.073058</td>\n",
       "      <td>0.100000</td>\n",
       "      <td>0.072794</td>\n",
       "      <td>0.016129</td>\n",
       "      <td>0.0</td>\n",
       "      <td>0.0</td>\n",
       "      <td>0</td>\n",
       "      <td>0</td>\n",
       "      <td>0</td>\n",
       "      <td>...</td>\n",
       "      <td>0</td>\n",
       "      <td>0</td>\n",
       "      <td>0</td>\n",
       "      <td>0</td>\n",
       "      <td>0</td>\n",
       "      <td>0</td>\n",
       "      <td>0</td>\n",
       "      <td>0</td>\n",
       "      <td>1</td>\n",
       "      <td>0</td>\n",
       "    </tr>\n",
       "    <tr>\n",
       "      <th>4</th>\n",
       "      <td>0.116883</td>\n",
       "      <td>0.075436</td>\n",
       "      <td>0.300000</td>\n",
       "      <td>0.017893</td>\n",
       "      <td>0.000000</td>\n",
       "      <td>0.0</td>\n",
       "      <td>0.0</td>\n",
       "      <td>0</td>\n",
       "      <td>0</td>\n",
       "      <td>0</td>\n",
       "      <td>...</td>\n",
       "      <td>0</td>\n",
       "      <td>0</td>\n",
       "      <td>0</td>\n",
       "      <td>0</td>\n",
       "      <td>0</td>\n",
       "      <td>0</td>\n",
       "      <td>0</td>\n",
       "      <td>0</td>\n",
       "      <td>1</td>\n",
       "      <td>0</td>\n",
       "    </tr>\n",
       "  </tbody>\n",
       "</table>\n",
       "<p>5 rows × 38 columns</p>\n",
       "</div>"
      ],
      "text/plain": [
       "        age   balance  day_of_week  duration  campaign  pdays  previous  \\\n",
       "0  0.129870  0.082382     0.900000  0.039854  0.000000    0.0       0.0   \n",
       "1  0.233766  0.077524     0.733333  0.022367  0.016129    0.0       0.0   \n",
       "2  0.259740  0.084733     0.500000  0.076861  0.016129    0.0       0.0   \n",
       "3  0.298701  0.073058     0.100000  0.072794  0.016129    0.0       0.0   \n",
       "4  0.116883  0.075436     0.300000  0.017893  0.000000    0.0       0.0   \n",
       "\n",
       "   job_blue-collar  job_entrepreneur  job_housemaid  ...  month_jan  \\\n",
       "0                0                 0              0  ...          1   \n",
       "1                1                 0              0  ...          0   \n",
       "2                0                 0              0  ...          0   \n",
       "3                0                 0              0  ...          0   \n",
       "4                0                 0              0  ...          0   \n",
       "\n",
       "   month_jul  month_jun  month_mar  month_may  month_nov  month_oct  \\\n",
       "0          0          0          0          0          0          0   \n",
       "1          0          0          0          1          0          0   \n",
       "2          1          0          0          0          0          0   \n",
       "3          0          0          0          0          0          0   \n",
       "4          0          0          0          0          0          0   \n",
       "\n",
       "   month_sep  poutcome_other  poutcome_success  \n",
       "0          0               1                 0  \n",
       "1          0               1                 0  \n",
       "2          0               1                 0  \n",
       "3          0               1                 0  \n",
       "4          0               1                 0  \n",
       "\n",
       "[5 rows x 38 columns]"
      ]
     },
     "execution_count": 4,
     "metadata": {},
     "output_type": "execute_result"
    }
   ],
   "source": [
    "X.head()"
   ]
  },
  {
   "cell_type": "code",
   "execution_count": 5,
   "id": "d04c7f26-cdf1-4806-b64e-ed76fe594f98",
   "metadata": {},
   "outputs": [
    {
     "data": {
      "text/html": [
       "<div>\n",
       "<style scoped>\n",
       "    .dataframe tbody tr th:only-of-type {\n",
       "        vertical-align: middle;\n",
       "    }\n",
       "\n",
       "    .dataframe tbody tr th {\n",
       "        vertical-align: top;\n",
       "    }\n",
       "\n",
       "    .dataframe thead th {\n",
       "        text-align: right;\n",
       "    }\n",
       "</style>\n",
       "<table border=\"1\" class=\"dataframe\">\n",
       "  <thead>\n",
       "    <tr style=\"text-align: right;\">\n",
       "      <th></th>\n",
       "      <th>y</th>\n",
       "    </tr>\n",
       "  </thead>\n",
       "  <tbody>\n",
       "    <tr>\n",
       "      <th>0</th>\n",
       "      <td>0</td>\n",
       "    </tr>\n",
       "    <tr>\n",
       "      <th>1</th>\n",
       "      <td>0</td>\n",
       "    </tr>\n",
       "    <tr>\n",
       "      <th>2</th>\n",
       "      <td>0</td>\n",
       "    </tr>\n",
       "    <tr>\n",
       "      <th>3</th>\n",
       "      <td>0</td>\n",
       "    </tr>\n",
       "    <tr>\n",
       "      <th>4</th>\n",
       "      <td>0</td>\n",
       "    </tr>\n",
       "  </tbody>\n",
       "</table>\n",
       "</div>"
      ],
      "text/plain": [
       "   y\n",
       "0  0\n",
       "1  0\n",
       "2  0\n",
       "3  0\n",
       "4  0"
      ]
     },
     "execution_count": 5,
     "metadata": {},
     "output_type": "execute_result"
    }
   ],
   "source": [
    "y.head()"
   ]
  },
  {
   "cell_type": "code",
   "execution_count": 11,
   "id": "3cc27f85-70e0-421e-baa4-97c2c64d840f",
   "metadata": {},
   "outputs": [],
   "source": [
    "from sklearn.model_selection import train_test_split"
   ]
  },
  {
   "cell_type": "code",
   "execution_count": 12,
   "id": "f11c5300-fe40-42c8-b97c-e8a1891354cc",
   "metadata": {},
   "outputs": [],
   "source": [
    "X_train, X_test, y_train, y_test = train_test_split(\n",
    "    X, y, test_size=0.30, stratify=y, random_state=42)"
   ]
  },
  {
   "cell_type": "code",
   "execution_count": 8,
   "id": "235c24ab-f13c-435a-b916-33ee44c2ff1d",
   "metadata": {},
   "outputs": [],
   "source": [
    "predictions = {\n",
    "    'rf': [],\n",
    "    'xgb': [],\n",
    "    'svm': []\n",
    "}"
   ]
  },
  {
   "cell_type": "code",
   "execution_count": 69,
   "id": "b2bbc688-5a70-4a74-8f71-65a990b86814",
   "metadata": {},
   "outputs": [
    {
     "data": {
      "text/plain": [
       "(7404, 1)"
      ]
     },
     "execution_count": 69,
     "metadata": {},
     "output_type": "execute_result"
    }
   ],
   "source": [
    "y_train.shape"
   ]
  },
  {
   "cell_type": "code",
   "execution_count": 71,
   "id": "f0dc30ea-a081-47ee-825c-b326e3fecba0",
   "metadata": {},
   "outputs": [
    {
     "data": {
      "text/plain": [
       "(3174, 1)"
      ]
     },
     "execution_count": 71,
     "metadata": {},
     "output_type": "execute_result"
    }
   ],
   "source": [
    "y_test.shape"
   ]
  },
  {
   "cell_type": "markdown",
   "id": "4d08b45a-1f4f-4ef4-a7ba-91c3a3843168",
   "metadata": {},
   "source": [
    "# Random Forest"
   ]
  },
  {
   "cell_type": "code",
   "execution_count": 21,
   "id": "28d02c67-9dad-4aa1-a24f-b8cb4a4763f2",
   "metadata": {},
   "outputs": [],
   "source": [
    "from sklearn.ensemble import RandomForestClassifier"
   ]
  },
  {
   "cell_type": "code",
   "execution_count": 11,
   "id": "34635c67-14c7-4438-933f-40ca93032910",
   "metadata": {},
   "outputs": [],
   "source": [
    "clf = RandomForestClassifier(random_state=42, \n",
    "                             min_samples_leaf=15,\n",
    "                             max_depth=20,\n",
    "                             n_estimators=500\n",
    "                            )"
   ]
  },
  {
   "cell_type": "code",
   "execution_count": 23,
   "id": "6c360e2c-d513-4c61-bb34-8bef567e648a",
   "metadata": {},
   "outputs": [],
   "source": [
    "from sklearn.metrics import accuracy_score, recall_score, confusion_matrix, ConfusionMatrixDisplay\n",
    "import matplotlib.pyplot as plt"
   ]
  },
  {
   "cell_type": "code",
   "execution_count": 45,
   "id": "3cdce353-fcb3-48f2-86d1-8f9bdccba7ca",
   "metadata": {},
   "outputs": [],
   "source": [
    "def train(clf):\n",
    "    clf.fit(X_train, y_train)\n",
    "    y_pred = clf.predict(X_test)\n",
    "    print(accuracy_score(y_test, y_pred))\n",
    "    print(recall_score(y_test, y_pred))\n",
    "    return y_pred\n",
    "def score(y_pred, clf):\n",
    "    cm = confusion_matrix(y_test, y_pred, labels=clf.classes_)\n",
    "    disp = ConfusionMatrixDisplay(confusion_matrix=cm,\n",
    "                              display_labels=clf.classes_)\n",
    "    disp.plot()\n",
    "    plt.show()"
   ]
  },
  {
   "cell_type": "code",
   "execution_count": 14,
   "id": "8ba187b2-1704-4c84-9b2a-df581182eb05",
   "metadata": {},
   "outputs": [
    {
     "name": "stdout",
     "output_type": "stream",
     "text": [
      "0.8342785129174544\n",
      "0.8733459357277883\n"
     ]
    }
   ],
   "source": [
    "predictions['rf'] = train(clf)"
   ]
  },
  {
   "cell_type": "code",
   "execution_count": 15,
   "id": "cac5f076-8134-42af-afd9-902849807bc1",
   "metadata": {},
   "outputs": [
    {
     "data": {
      "text/plain": [
       "{'rf': array([0, 1, 0, ..., 1, 1, 0], dtype=int64), 'xgb': [], 'svm': []}"
      ]
     },
     "execution_count": 15,
     "metadata": {},
     "output_type": "execute_result"
    }
   ],
   "source": [
    "predictions"
   ]
  },
  {
   "cell_type": "code",
   "execution_count": 16,
   "id": "8e89d253-bcfe-43d8-8980-7d4939fbf265",
   "metadata": {},
   "outputs": [
    {
     "name": "stdout",
     "output_type": "stream",
     "text": [
      "0.8342785129174544\n",
      "0.8733459357277883\n"
     ]
    },
    {
     "data": {
      "image/png": "[encoded data removed]",
      "text/plain": [
       "<Figure size 640x480 with 2 Axes>"
      ]
     },
     "metadata": {},
     "output_type": "display_data"
    }
   ],
   "source": [
    "score(train(clf), clf)"
   ]
  },
  {
   "cell_type": "markdown",
   "id": "ba2e0989-2365-4b2e-a22a-b9f67b418615",
   "metadata": {},
   "source": [
    "# XGBoost"
   ]
  },
  {
   "cell_type": "code",
   "execution_count": 18,
   "id": "66876ee1-dea6-462f-8bb8-0f4f84b82dca",
   "metadata": {},
   "outputs": [],
   "source": [
    "from xgboost import XGBClassifier"
   ]
  },
  {
   "cell_type": "code",
   "execution_count": 19,
   "id": "1428ec74-a64d-440e-8f82-ec1aebecec63",
   "metadata": {},
   "outputs": [],
   "source": [
    "clf = XGBClassifier(random_state=42, \n",
    "                    n_estimators=100_000,\n",
    "                    max_leaves=10,\n",
    "                    max_depth=2,\n",
    "                    gamma=0,\n",
    "                    eta=0.1\n",
    "                   )"
   ]
  },
  {
   "cell_type": "code",
   "execution_count": 20,
   "id": "fa839dfc-4821-4bd8-a7d0-01469c51ca7c",
   "metadata": {},
   "outputs": [
    {
     "name": "stdout",
     "output_type": "stream",
     "text": [
      "0.8172652804032766\n",
      "0.8021424070573409\n"
     ]
    }
   ],
   "source": [
    "predictions['xgb'] = train(clf)"
   ]
  },
  {
   "cell_type": "code",
   "execution_count": 21,
   "id": "efad8b5e-0567-4bed-bbc1-83294791bb18",
   "metadata": {},
   "outputs": [
    {
     "data": {
      "text/plain": [
       "{'rf': array([0, 1, 0, ..., 1, 1, 0], dtype=int64),\n",
       " 'xgb': array([0, 1, 0, ..., 1, 1, 0]),\n",
       " 'svm': []}"
      ]
     },
     "execution_count": 21,
     "metadata": {},
     "output_type": "execute_result"
    }
   ],
   "source": [
    "predictions"
   ]
  },
  {
   "cell_type": "code",
   "execution_count": 22,
   "id": "1f42cba0-3d76-472a-ad5e-6eb5d7a3f58a",
   "metadata": {},
   "outputs": [
    {
     "name": "stdout",
     "output_type": "stream",
     "text": [
      "0.8172652804032766\n",
      "0.8021424070573409\n"
     ]
    },
    {
     "data": {
      "image/png": "[encoded data removed]",
      "text/plain": [
       "<Figure size 640x480 with 2 Axes>"
      ]
     },
     "metadata": {},
     "output_type": "display_data"
    }
   ],
   "source": [
    "score(train(clf),clf)"
   ]
  },
  {
   "cell_type": "markdown",
   "id": "03e90c7a-6044-4486-8ec3-b15b249f04ca",
   "metadata": {},
   "source": [
    "# SVM"
   ]
  },
  {
   "cell_type": "code",
   "execution_count": 24,
   "id": "5c9f6da9-c6ba-4be8-ad7c-04332351dbf6",
   "metadata": {},
   "outputs": [],
   "source": [
    "from sklearn.svm import SVC"
   ]
  },
  {
   "cell_type": "code",
   "execution_count": 25,
   "id": "000fb927-35d5-464e-858b-15cce055a3ae",
   "metadata": {},
   "outputs": [],
   "source": [
    "clf = SVC(random_state=42,\n",
    "          kernel='linear',\n",
    "          C=5\n",
    "         )"
   ]
  },
  {
   "cell_type": "code",
   "execution_count": 26,
   "id": "09f8a967-e32a-43d3-afff-47a1a48edce5",
   "metadata": {},
   "outputs": [
    {
     "name": "stdout",
     "output_type": "stream",
     "text": [
      "0.8251417769376181\n",
      "0.8103339634530561\n"
     ]
    }
   ],
   "source": [
    "predictions['svm'] = train(clf)"
   ]
  },
  {
   "cell_type": "code",
   "execution_count": 27,
   "id": "38952f13-c517-499e-bc29-a020803e809b",
   "metadata": {},
   "outputs": [
    {
     "data": {
      "text/plain": [
       "{'rf': array([0, 1, 0, ..., 1, 1, 0], dtype=int64),\n",
       " 'xgb': array([0, 1, 0, ..., 1, 1, 0]),\n",
       " 'svm': array([0, 1, 0, ..., 1, 1, 0], dtype=int64)}"
      ]
     },
     "execution_count": 27,
     "metadata": {},
     "output_type": "execute_result"
    }
   ],
   "source": [
    "predictions"
   ]
  },
  {
   "cell_type": "code",
   "execution_count": 28,
   "id": "2dd33ad1-c1d9-4e6a-96df-83b8b9de2b61",
   "metadata": {},
   "outputs": [
    {
     "name": "stdout",
     "output_type": "stream",
     "text": [
      "0.8251417769376181\n",
      "0.8103339634530561\n"
     ]
    },
    {
     "data": {
      "image/png": "[encoded data removed]",
      "text/plain": [
       "<Figure size 640x480 with 2 Axes>"
      ]
     },
     "metadata": {},
     "output_type": "display_data"
    }
   ],
   "source": [
    "score(train(clf), clf)"
   ]
  },
  {
   "cell_type": "code",
   "execution_count": 55,
   "id": "53386d75-396d-4d76-a786-09d7b87f9c59",
   "metadata": {},
   "outputs": [
    {
     "data": {
      "text/html": [
       "<div>\n",
       "<style scoped>\n",
       "    .dataframe tbody tr th:only-of-type {\n",
       "        vertical-align: middle;\n",
       "    }\n",
       "\n",
       "    .dataframe tbody tr th {\n",
       "        vertical-align: top;\n",
       "    }\n",
       "\n",
       "    .dataframe thead th {\n",
       "        text-align: right;\n",
       "    }\n",
       "</style>\n",
       "<table border=\"1\" class=\"dataframe\">\n",
       "  <thead>\n",
       "    <tr style=\"text-align: right;\">\n",
       "      <th></th>\n",
       "      <th>rf</th>\n",
       "      <th>xgb</th>\n",
       "      <th>svm</th>\n",
       "    </tr>\n",
       "  </thead>\n",
       "  <tbody>\n",
       "    <tr>\n",
       "      <th>0</th>\n",
       "      <td>0</td>\n",
       "      <td>0</td>\n",
       "      <td>0</td>\n",
       "    </tr>\n",
       "    <tr>\n",
       "      <th>1</th>\n",
       "      <td>1</td>\n",
       "      <td>1</td>\n",
       "      <td>1</td>\n",
       "    </tr>\n",
       "    <tr>\n",
       "      <th>2</th>\n",
       "      <td>0</td>\n",
       "      <td>0</td>\n",
       "      <td>0</td>\n",
       "    </tr>\n",
       "    <tr>\n",
       "      <th>3</th>\n",
       "      <td>0</td>\n",
       "      <td>0</td>\n",
       "      <td>0</td>\n",
       "    </tr>\n",
       "    <tr>\n",
       "      <th>4</th>\n",
       "      <td>1</td>\n",
       "      <td>1</td>\n",
       "      <td>1</td>\n",
       "    </tr>\n",
       "    <tr>\n",
       "      <th>...</th>\n",
       "      <td>...</td>\n",
       "      <td>...</td>\n",
       "      <td>...</td>\n",
       "    </tr>\n",
       "    <tr>\n",
       "      <th>3169</th>\n",
       "      <td>1</td>\n",
       "      <td>0</td>\n",
       "      <td>0</td>\n",
       "    </tr>\n",
       "    <tr>\n",
       "      <th>3170</th>\n",
       "      <td>0</td>\n",
       "      <td>0</td>\n",
       "      <td>0</td>\n",
       "    </tr>\n",
       "    <tr>\n",
       "      <th>3171</th>\n",
       "      <td>1</td>\n",
       "      <td>1</td>\n",
       "      <td>1</td>\n",
       "    </tr>\n",
       "    <tr>\n",
       "      <th>3172</th>\n",
       "      <td>1</td>\n",
       "      <td>1</td>\n",
       "      <td>1</td>\n",
       "    </tr>\n",
       "    <tr>\n",
       "      <th>3173</th>\n",
       "      <td>0</td>\n",
       "      <td>0</td>\n",
       "      <td>0</td>\n",
       "    </tr>\n",
       "  </tbody>\n",
       "</table>\n",
       "<p>3174 rows × 3 columns</p>\n",
       "</div>"
      ],
      "text/plain": [
       "      rf  xgb  svm\n",
       "0      0    0    0\n",
       "1      1    1    1\n",
       "2      0    0    0\n",
       "3      0    0    0\n",
       "4      1    1    1\n",
       "...   ..  ...  ...\n",
       "3169   1    0    0\n",
       "3170   0    0    0\n",
       "3171   1    1    1\n",
       "3172   1    1    1\n",
       "3173   0    0    0\n",
       "\n",
       "[3174 rows x 3 columns]"
      ]
     },
     "execution_count": 55,
     "metadata": {},
     "output_type": "execute_result"
    }
   ],
   "source": [
    "pd.DataFrame(predictions)"
   ]
  },
  {
   "cell_type": "code",
   "execution_count": 59,
   "id": "96e42489-3836-4c21-bcad-724c6fcea6e5",
   "metadata": {},
   "outputs": [],
   "source": [
    "df = pd.DataFrame(predictions)"
   ]
  },
  {
   "cell_type": "code",
   "execution_count": 61,
   "id": "6defd552-3f16-46e1-a2c9-e8557ce94635",
   "metadata": {},
   "outputs": [],
   "source": [
    "df['aux'] = df['rf']+df['xgb']+df['svm']"
   ]
  },
  {
   "cell_type": "code",
   "execution_count": 63,
   "id": "79267190-6d3c-4c81-bfef-da5f225c6641",
   "metadata": {},
   "outputs": [],
   "source": [
    "def majority(x):\n",
    "    if x > 1:\n",
    "        return 1\n",
    "    return 0"
   ]
  },
  {
   "cell_type": "code",
   "execution_count": 65,
   "id": "09071c30-315c-4083-a85a-1f218f3433eb",
   "metadata": {},
   "outputs": [],
   "source": [
    "df['result'] = df['aux'].map(lambda x: majority(x))"
   ]
  },
  {
   "cell_type": "code",
   "execution_count": 73,
   "id": "d90c1f68-1982-4bbb-a7a4-f46233478508",
   "metadata": {},
   "outputs": [
    {
     "data": {
      "text/plain": [
       "(3174,)"
      ]
     },
     "execution_count": 73,
     "metadata": {},
     "output_type": "execute_result"
    }
   ],
   "source": [
    "df['result'].shape"
   ]
  },
  {
   "cell_type": "code",
   "execution_count": 75,
   "id": "42124379-252f-404d-9806-6dad0a7612fd",
   "metadata": {},
   "outputs": [
    {
     "data": {
      "text/plain": [
       "0.8412098298676749"
      ]
     },
     "execution_count": 75,
     "metadata": {},
     "output_type": "execute_result"
    }
   ],
   "source": [
    "accuracy_score(y_test, df['result'].values)"
   ]
  },
  {
   "cell_type": "code",
   "execution_count": 77,
   "id": "da95af8f-a88e-41d9-9401-2da6a23ce7f5",
   "metadata": {},
   "outputs": [
    {
     "data": {
      "text/plain": [
       "0.8563327032136105"
      ]
     },
     "execution_count": 77,
     "metadata": {},
     "output_type": "execute_result"
    }
   ],
   "source": [
    "recall_score(y_test, df['result'].values)"
   ]
  },
  {
   "cell_type": "markdown",
   "id": "fd022d39-e252-443c-b26f-51a326ec9dfc",
   "metadata": {},
   "source": [
    "# Bagging"
   ]
  },
  {
   "cell_type": "code",
   "execution_count": 27,
   "id": "0a4a07e8-f631-40a2-91e4-aca594b4d798",
   "metadata": {},
   "outputs": [],
   "source": [
    "from sklearn.ensemble import BaggingClassifier"
   ]
  },
  {
   "cell_type": "code",
   "execution_count": 29,
   "id": "d13b481a-1cab-43f8-b80c-4990f9a5c285",
   "metadata": {},
   "outputs": [],
   "source": [
    "bag = BaggingClassifier(base_estimator=RandomForestClassifier(random_state=42, \n",
    "                             min_samples_leaf=15,\n",
    "                             max_depth=20,\n",
    "                             n_estimators=500,\n",
    "                            n_jobs=-1))"
   ]
  },
  {
   "cell_type": "code",
   "execution_count": 31,
   "id": "12bd4f3e-2d75-4927-978d-c4c32c387ac8",
   "metadata": {},
   "outputs": [
    {
     "name": "stdout",
     "output_type": "stream",
     "text": [
      "0.8308128544423441\n",
      "0.8676748582230623\n"
     ]
    },
    {
     "data": {
      "text/plain": [
       "array([0, 1, 0, ..., 1, 1, 0], dtype=int64)"
      ]
     },
     "execution_count": 31,
     "metadata": {},
     "output_type": "execute_result"
    }
   ],
   "source": [
    "train(bag)"
   ]
  },
  {
   "cell_type": "code",
   "execution_count": 47,
   "id": "9a02db6f-efd1-4b16-bce0-d43c95e0eb57",
   "metadata": {},
   "outputs": [
    {
     "name": "stdout",
     "output_type": "stream",
     "text": [
      "0.8273471959672338\n",
      "0.8645242596093258\n"
     ]
    },
    {
     "data": {
      "image/png": "[encoded data removed]",
      "text/plain": [
       "<Figure size 640x480 with 2 Axes>"
      ]
     },
     "metadata": {},
     "output_type": "display_data"
    }
   ],
   "source": [
    "score(train(bag), clf=bag)"
   ]
  }
 ],
 "metadata": {
  "kernelspec": {
   "display_name": "Python [conda env:mlproj20251]",
   "language": "python",
   "name": "conda-env-mlproj20251-py"
  },
  "language_info": {
   "codemirror_mode": {
    "name": "ipython",
    "version": 3
   },
   "file_extension": ".py",
   "mimetype": "text/x-python",
   "name": "python",
   "nbconvert_exporter": "python",
   "pygments_lexer": "ipython3",
   "version": "3.12.9"
  }
 },
 "nbformat": 4,
 "nbformat_minor": 5
}
